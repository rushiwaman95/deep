{
 "cells": [
  {
   "cell_type": "code",
   "execution_count": 20,
   "id": "12743d30",
   "metadata": {},
   "outputs": [],
   "source": [
    "import tensorflow as tf\n",
    "import matplotlib.pyplot as plt\n",
    "from tensorflow import keras\n",
    "from tensorflow.keras.layers import Dense,Conv2D,Flatten,MaxPool2D\n",
    "from tensorflow.keras import Sequential\n",
    "import random"
   ]
  },
  {
   "cell_type": "code",
   "execution_count": 21,
   "id": "99af24d5",
   "metadata": {},
   "outputs": [],
   "source": [
    "(xtrain,ytrain),(xtest,ytest) = tf.keras.datasets.cifar10.load_data()"
   ]
  },
  {
   "cell_type": "code",
   "execution_count": null,
   "id": "7da9e690",
   "metadata": {},
   "outputs": [],
   "source": [
    "len(xtrain)"
   ]
  },
  {
   "cell_type": "code",
   "execution_count": null,
   "id": "a7264f2c",
   "metadata": {},
   "outputs": [],
   "source": [
    "len(xtest)"
   ]
  },
  {
   "cell_type": "code",
   "execution_count": null,
   "id": "fd93b3e8",
   "metadata": {},
   "outputs": [],
   "source": [
    "xtrain.shape"
   ]
  },
  {
   "cell_type": "code",
   "execution_count": null,
   "id": "9a8d0acc",
   "metadata": {},
   "outputs": [],
   "source": [
    "xtest.shape"
   ]
  },
  {
   "cell_type": "code",
   "execution_count": null,
   "id": "69bd8252",
   "metadata": {},
   "outputs": [],
   "source": [
    "plt.imshow(xtrain[0])"
   ]
  },
  {
   "cell_type": "code",
   "execution_count": null,
   "id": "b99b2e34",
   "metadata": {},
   "outputs": [],
   "source": [
    "xtrain[0]"
   ]
  },
  {
   "cell_type": "code",
   "execution_count": 9,
   "id": "29160aa7",
   "metadata": {},
   "outputs": [],
   "source": [
    "xtrain = xtrain/255.0\n",
    "xtest = xtest/255.0"
   ]
  },
  {
   "cell_type": "code",
   "execution_count": null,
   "id": "1825d7ff",
   "metadata": {},
   "outputs": [],
   "source": [
    "xtrain[0]"
   ]
  },
  {
   "cell_type": "code",
   "execution_count": 11,
   "id": "f910b37c",
   "metadata": {},
   "outputs": [],
   "source": [
    "model = Sequential([Conv2D(filters=32,kernel_size=3, padding=\"same\", activation=\"relu\", input_shape=[32,32,3]),\n",
    "                   MaxPool2D(pool_size=2,strides=2, padding='valid'),\n",
    "                   Flatten(),\n",
    "                   Dense(100,activation=\"relu\"),\n",
    "                   Dense(10,activation=\"softmax\")])"
   ]
  },
  {
   "cell_type": "code",
   "execution_count": 12,
   "id": "02a7f866",
   "metadata": {},
   "outputs": [],
   "source": [
    "model.compile(optimizer=\"sgd\",loss=\"sparse_categorical_crossentropy\",metrics=['accuracy'])"
   ]
  },
  {
   "cell_type": "code",
   "execution_count": null,
   "id": "a478ed1b",
   "metadata": {},
   "outputs": [],
   "source": [
    "history = model.fit(xtrain,ytrain,validation_data=(xtest,ytest),epochs=10)"
   ]
  },
  {
   "cell_type": "code",
   "execution_count": null,
   "id": "b0bba88a",
   "metadata": {},
   "outputs": [],
   "source": [
    "predicted = model.predict(xtest)\n",
    "predicted[0]"
   ]
  },
  {
   "cell_type": "code",
   "execution_count": null,
   "id": "8aaad1ff",
   "metadata": {},
   "outputs": [],
   "source": [
    "n = random.randint(0,999)\n",
    "classes = [\"airplane\",\"automobile\",\"bird\",\"cat\",\"deer\",\"dog\",\"frog\",\"horse\",\"ship\",\"truck\"]\n",
    "\n",
    "value=predicted[n][0]\n",
    "index=0\n",
    "for i in range(len(predicted[n])):\n",
    "    if value<predicted[n][i]:\n",
    "        index = i\n",
    "        \n",
    "plt.imshow(xtest[n])\n",
    "plt.xlabel(\"model predicted it as a :\"+classes[index])"
   ]
  },
  {
   "cell_type": "code",
   "execution_count": null,
   "id": "93eca5b5",
   "metadata": {},
   "outputs": [],
   "source": [
    "history.history.keys()"
   ]
  },
  {
   "cell_type": "code",
   "execution_count": null,
   "id": "dd1f2363",
   "metadata": {},
   "outputs": [],
   "source": [
    "plt.plot(history.history['accuracy'],label=\"train_accuracy\")\n",
    "plt.plot(history.history['val_accuracy'],label=\"test_accuracy\")\n",
    "plt.legend(loc=\"upper left\")\n",
    "\n",
    "plt.xlabel(\"Epochs\")\n",
    "plt.ylabel(\"Accuracy\")\n",
    "plt.show()"
   ]
  },
  {
   "cell_type": "code",
   "execution_count": null,
   "id": "4f02b934",
   "metadata": {},
   "outputs": [],
   "source": [
    "plt.plot(history.history['loss'],label=\"train_loss\")\n",
    "plt.plot(history.history['val_loss'],label=\"test_loss\")\n",
    "plt.legend(loc=\"upper right\")\n",
    "plt.xlabel(\"Epochs\")\n",
    "plt.ylabel(\"loss\")\n",
    "plt.show()"
   ]
  },
  {
   "cell_type": "code",
   "execution_count": null,
   "id": "3faf4128",
   "metadata": {},
   "outputs": [],
   "source": []
  }
 ],
 "metadata": {
  "kernelspec": {
   "display_name": "Python 3",
   "language": "python",
   "name": "python3"
  },
  "language_info": {
   "codemirror_mode": {
    "name": "ipython",
    "version": 3
   },
   "file_extension": ".py",
   "mimetype": "text/x-python",
   "name": "python",
   "nbconvert_exporter": "python",
   "pygments_lexer": "ipython3",
   "version": "3.8.8"
  }
 },
 "nbformat": 4,
 "nbformat_minor": 5
}
