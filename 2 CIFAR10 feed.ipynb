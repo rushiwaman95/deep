{
 "cells": [
  {
   "cell_type": "code",
   "execution_count": 16,
   "id": "cb3016b2",
   "metadata": {},
   "outputs": [],
   "source": [
    "import tensorflow as tf\n",
    "import matplotlib.pyplot as plt\n",
    "from tensorflow import keras\n",
    "from tensorflow.keras.layers import Dense,Conv2D,Flatten,MaxPool2D\n",
    "from tensorflow.keras import Sequential\n",
    "import random\n",
    "%matplotlib inline"
   ]
  },
  {
   "cell_type": "code",
   "execution_count": 2,
   "id": "44a016f5",
   "metadata": {},
   "outputs": [],
   "source": [
    "cifar10 = tf.keras.datasets.cifar10\n",
    "(xtrain,ytrain),(xtest,ytest) = cifar10.load_data()"
   ]
  },
  {
   "cell_type": "code",
   "execution_count": null,
   "id": "88354282",
   "metadata": {},
   "outputs": [],
   "source": [
    "len(xtrain)"
   ]
  },
  {
   "cell_type": "code",
   "execution_count": null,
   "id": "860e1c6d",
   "metadata": {},
   "outputs": [],
   "source": [
    "len(xtest)"
   ]
  },
  {
   "cell_type": "code",
   "execution_count": null,
   "id": "f1c3c3a8",
   "metadata": {},
   "outputs": [],
   "source": [
    "xtrain.shape"
   ]
  },
  {
   "cell_type": "code",
   "execution_count": null,
   "id": "bca73df5",
   "metadata": {},
   "outputs": [],
   "source": [
    "xtest.shape"
   ]
  },
  {
   "cell_type": "code",
   "execution_count": null,
   "id": "fbd76da9",
   "metadata": {},
   "outputs": [],
   "source": [
    "plt.imshow(xtrain[0])"
   ]
  },
  {
   "cell_type": "code",
   "execution_count": null,
   "id": "f2fa3ac0",
   "metadata": {},
   "outputs": [],
   "source": [
    "xtrain[0]"
   ]
  },
  {
   "cell_type": "code",
   "execution_count": null,
   "id": "b90802b2",
   "metadata": {},
   "outputs": [],
   "source": [
    "xtrain = xtrain/255.0\n",
    "xtest = xtest/255.0"
   ]
  },
  {
   "cell_type": "code",
   "execution_count": null,
   "id": "3262b3b2",
   "metadata": {},
   "outputs": [],
   "source": [
    "xtrain[0]"
   ]
  },
  {
   "cell_type": "code",
   "execution_count": 11,
   "id": "e981bb8d",
   "metadata": {},
   "outputs": [],
   "source": [
    "model = Sequential([Conv2D(filters=32,kernel_size=3, padding=\"same\", activation=\"relu\", input_shape=[32,32,3]),\n",
    "                   MaxPool2D(pool_size=2,strides=2, padding='valid'),\n",
    "                   Flatten(),\n",
    "                   Dense(100,activation=\"relu\"),\n",
    "                   Dense(10,activation=\"softmax\")])"
   ]
  },
  {
   "cell_type": "code",
   "execution_count": 12,
   "id": "634c3b2d",
   "metadata": {},
   "outputs": [],
   "source": [
    "model.compile(optimizer=\"sgd\",loss=\"sparse_categorical_crossentropy\",metrics=['accuracy'])"
   ]
  },
  {
   "cell_type": "code",
   "execution_count": null,
   "id": "9e6fc200",
   "metadata": {},
   "outputs": [],
   "source": [
    "history = model.fit(xtrain,ytrain,validation_data=(xtest,ytest),epochs=10)"
   ]
  },
  {
   "cell_type": "code",
   "execution_count": null,
   "id": "e0c7bc8c",
   "metadata": {},
   "outputs": [],
   "source": [
    "predicted = model.predict(xtest)\n",
    "predicted[0]"
   ]
  },
  {
   "cell_type": "code",
   "execution_count": null,
   "id": "2984b348",
   "metadata": {},
   "outputs": [],
   "source": [
    "n = random.randint(0,999)\n",
    "classes = [\"airplane\",\"automobile\",\"bird\",\"cat\",\"deer\",\"dog\",\"frog\",\"horse\",\"ship\",\"truck\"]\n",
    "\n",
    "value=predicted[n][0]\n",
    "index=0\n",
    "for i in range(len(predicted[n])):\n",
    "    if value<predicted[n][i]:\n",
    "        index = i\n",
    "        \n",
    "plt.imshow(xtest[n])\n",
    "plt.xlabel(\"model predicted it as a :\"+classes[index])"
   ]
  },
  {
   "cell_type": "code",
   "execution_count": null,
   "id": "2bc03eea",
   "metadata": {},
   "outputs": [],
   "source": [
    "history.history.keys()"
   ]
  },
  {
   "cell_type": "code",
   "execution_count": null,
   "id": "d3ea21f8",
   "metadata": {},
   "outputs": [],
   "source": [
    "plt.plot(history.history['accuracy'],label=\"train_accuracy\")\n",
    "plt.plot(history.history['val_accuracy'],label=\"test_accuracy\")\n",
    "plt.legend(loc=\"upper left\")\n",
    "\n",
    "plt.xlabel(\"Epochs\")\n",
    "plt.ylabel(\"Accuracy\")\n",
    "plt.show()"
   ]
  },
  {
   "cell_type": "code",
   "execution_count": null,
   "id": "d0cbcdd8",
   "metadata": {},
   "outputs": [],
   "source": [
    "plt.plot(history.history['loss'],label=\"train_loss\")\n",
    "plt.plot(history.history['val_loss'],label=\"test_loss\")\n",
    "plt.legend(loc=\"upper right\")\n",
    "plt.xlabel(\"Epochs\")\n",
    "plt.ylabel(\"loss\")\n",
    "plt.show()"
   ]
  },
  {
   "cell_type": "code",
   "execution_count": null,
   "id": "9e1aba6b",
   "metadata": {},
   "outputs": [],
   "source": []
  }
 ],
 "metadata": {
  "kernelspec": {
   "display_name": "Python 3",
   "language": "python",
   "name": "python3"
  },
  "language_info": {
   "codemirror_mode": {
    "name": "ipython",
    "version": 3
   },
   "file_extension": ".py",
   "mimetype": "text/x-python",
   "name": "python",
   "nbconvert_exporter": "python",
   "pygments_lexer": "ipython3",
   "version": "3.8.8"
  }
 },
 "nbformat": 4,
 "nbformat_minor": 5
}
